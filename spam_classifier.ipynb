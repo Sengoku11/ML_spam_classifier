{
 "cells": [
  {
   "cell_type": "code",
   "execution_count": 1,
   "metadata": {},
   "outputs": [],
   "source": [
    "%matplotlib inline\n",
    "import os\n",
    "import tarfile\n",
    "from six.moves import urllib\n",
    "import email\n",
    "import email.policy\n",
    "import re\n",
    "from html import unescape\n",
    "import nltk\n",
    "import urlextract\n",
    "from sklearn.model_selection import train_test_split, cross_val_score\n",
    "from sklearn.base import BaseEstimator, TransformerMixin\n",
    "from sklearn.pipeline import Pipeline\n",
    "from sklearn.linear_model import LogisticRegression\n",
    "from sklearn.metrics import precision_score, recall_score\n",
    "from collections import Counter\n",
    "import numpy as np\n",
    "from scipy.sparse import csr_matrix"
   ]
  },
  {
   "cell_type": "markdown",
   "metadata": {},
   "source": [
    "# About the data\n",
    "\n",
    "  - spam: 500 spam messages, all received from non-spam-trap sources.\n",
    "\n",
    "  - easy_ham: 2500 non-spam messages.  These are typically quite easy to\n",
    "    differentiate from spam, since they frequently do not contain any spammish\n",
    "    signatures (like HTML etc).\n",
    "    \n",
    "  - hard_ham: 250 non-spam messages which are closer in many respects to\n",
    "    typical spam: use of HTML, unusual HTML markup, coloured text,\n",
    "    \"spammish-sounding\" phrases etc.\n",
    "  \n",
    "Source: https://spamassassin.apache.org/old/publiccorpus/readme.html"
   ]
  },
  {
   "cell_type": "code",
   "execution_count": 2,
   "metadata": {},
   "outputs": [],
   "source": [
    "DOWNLOAD_ROOT = \"https://spamassassin.apache.org/old/publiccorpus/\"\n",
    "DATASETS_PATH = os.path.join(\"Datasets\")\n",
    "FILES = [\"20030228_easy_ham.tar.bz2\",\n",
    "         \"20030228_hard_ham.tar.bz2\",\n",
    "         \"20030228_spam.tar.bz2\",]\n",
    "DOWNLOAD_URLS = [DOWNLOAD_ROOT + name for name in FILES]\n",
    "\n",
    "def fetch_data():\n",
    "    if not os.path.isdir(DATASETS_PATH):\n",
    "        os.makedirs(DATASETS_PATH)\n",
    "        \n",
    "    for filename, url in list(zip(FILES, DOWNLOAD_URLS)):\n",
    "        path = os.path.join(DATASETS_PATH, filename)\n",
    "        if not os.path.isfile(path):\n",
    "            urllib.request.urlretrieve(url, path)\n",
    "        current_tar_file = tarfile.open(path)\n",
    "        current_tar_file.extractall(path=DATASETS_PATH)\n",
    "        current_tar_file.close()\n",
    "        "
   ]
  },
  {
   "cell_type": "code",
   "execution_count": 3,
   "metadata": {},
   "outputs": [],
   "source": [
    "fetch_data()"
   ]
  },
  {
   "cell_type": "code",
   "execution_count": 4,
   "metadata": {},
   "outputs": [
    {
     "name": "stdout",
     "output_type": "stream",
     "text": [
      "Spam emails: 500 \n",
      "Non-spam emails: 2750\n"
     ]
    }
   ],
   "source": [
    "spam_path = os.path.join(DATASETS_PATH, 'spam')\n",
    "ham_path = os.path.join(DATASETS_PATH, 'easy_ham')\n",
    "hardham_path = os.path.join(DATASETS_PATH, 'hard_ham')\n",
    "spam_filenames = [filename for filename in os.listdir(spam_path) if len(filename) > 10]\n",
    "ham_filenames = [filename for filename in os.listdir(ham_path) if len(filename) > 10]\n",
    "hardham_filenames = [filename for filename in os.listdir(hardham_path) if len(filename) > 10]\n",
    "\n",
    "print(\"Spam emails:\", len(spam_filenames), \"\\nNon-spam emails:\", len(ham_filenames) + len(hardham_filenames))"
   ]
  },
  {
   "cell_type": "code",
   "execution_count": 5,
   "metadata": {},
   "outputs": [],
   "source": [
    "def read_email(filename, directory):\n",
    "    with open(os.path.join(DATASETS_PATH, directory, filename), \"rb\") as f:        \n",
    "        return email.parser.BytesParser(policy=email.policy.default).parse(f)\n",
    "\n",
    "    \n",
    "spam_emails = [read_email(filename=filename, directory=\"spam\") for filename in spam_filenames]\n",
    "ham_emails = [read_email(filename=filename, directory=\"easy_ham\") for filename in ham_filenames]\n",
    "hardham_emails = [read_email(filename=filename, directory=\"hard_ham\") for filename in hardham_filenames]\n",
    "\n",
    "# unite ham and hardham into one nonspam category\n",
    "ham_emails = ham_emails + hardham_emails"
   ]
  },
  {
   "cell_type": "code",
   "execution_count": 6,
   "metadata": {
    "scrolled": false
   },
   "outputs": [
    {
     "name": "stdout",
     "output_type": "stream",
     "text": [
      "<!DOCTYPE HTML PUBLIC \"-//W3C//DTD HTML 4.0 Transitional//EN\">\n",
      "<HTML><HEAD>\n",
      "<META content=\"text/html; charset=windows-1252\" http-equiv=Content-Type>\n",
      "<META content=\"MSHTML 5.00.2314.1000\" name=GENERATOR></HEAD>\n",
      "<BODY><!-- Inserted by Calypso -->\n",
      "<TABLE border=0 cellPadding=0 cellSpacing=2 id=_CalyPrintHeader_ rules=none \n",
      "style=\"COLOR: black; DISPLAY: none\" width=\"100%\">\n",
      "  <TBODY>\n",
      "  <TR>\n",
      "    <TD colSpan=3>\n",
      "      <HR color=black noShade SIZE=1>\n",
      "    </TD></TR></TD></TR>\n",
      "  <TR>\n",
      "    <TD colSpan=3>\n",
      "      <HR color=black noShade SIZE=1>\n",
      "    </TD></TR></TBODY></TABLE><!-- End Calypso --><!-- Inserted by Calypso --><FONT \n",
      "color=#000000 face=VERDANA,ARIAL,HELVETICA size=-2><BR></FONT></TD></TR></TABLE><!-- End Calypso --><FONT color=#ff0000 \n",
      "face=\"Copperplate Gothic Bold\" size=5 PTSIZE=\"10\">\n",
      "<CENTER>Save up to 70% on Life Insurance.</CENTER></FONT><FONT color=#ff0000 \n",
      "face=\"Copperplate Gothic Bold\" size=5 PTSIZE=\"10\">\n",
      "<CENTER>Why Spend More Than You Have To?\n",
      "<CENTER><FONT color=#ff0000 face=\"Copperplate Gothic Bold\" size=5 PTSIZE=\"10\">\n",
      "<CENTER>Life Quote Savings\n",
      "<CENTER>\n",
      "<P align=left></P>\n",
      "<P align=left></P></FONT></U></I></B><BR></FONT></U></B></U></I>\n",
      "<P></P>\n",
      "<CENTER>\n",
      "<TABLE border=0 borderColor=#111111 cellPadding=0 cellSpacing=0 width=650>\n",
      "  <TBODY></TBODY></TABLE>\n",
      "<TABLE border=0 borderColor=#111111 cellPadding=5 cellSpacing=0 width=650>\n",
      "  <TBODY>\n",
      "  <TR>\n",
      "    <TD colSpan=2 width=\"35%\"><B><FONT face=Verdana size=4>Ensuring your \n",
      "      family's financial security is very important. Life Quote Savings makes \n",
      "      buying life insurance simple and affordable. We Provide FREE Access to The \n",
      "      Very Best Companies and The Lowest Rates.</FONT></B></TD></TR>\n",
      "  <TR>\n",
      "    <TD align=middle vAlign=top width=\"18%\">\n",
      "      <TABLE borderColor=#111111 width=\"100%\">\n",
      "        <TBODY>\n",
      "        <TR>\n",
      "          <TD style=\"PADDING-LEFT: 5px; PADDING-RIGHT: 5px\" width=\"100%\"><FONT \n",
      "            face=Verdana size=4><B>Life Quote Savings</B> is FAST, EASY and \n",
      "            SAVES you money! Let us help you get started with the best values in \n",
      "            the country on new coverage. You can SAVE hundreds or even thousands \n",
      "            of dollars by requesting a FREE quote from Lifequote Savings. Our \n",
      "            service will take you less than 5 minutes to complete. Shop and \n",
      "            compare. SAVE up to 70% on all types of Life insurance! \n",
      "</FONT></TD></TR>\n",
      "        <TR><BR><BR>\n",
      "          <TD height=50 style=\"PADDING-LEFT: 5px; PADDING-RIGHT: 5px\" \n",
      "          width=\"100%\">\n",
      "            <P align=center><B><FONT face=Verdana size=5><A \n",
      "            href=\"http://website.e365.cc/savequote/\">Click Here For Your \n",
      "            Free Quote!</A></FONT></B></P></TD>\n",
      "          <P><FONT face=Verdana size=4><STRONG>\n",
      "          <CENTER>Protecting your family is the best investment you'll ever \n",
      "          make!<BR></B></TD></TR>\n",
      "        <TR><BR><BR></STRONG></FONT></TD></TR></TD></TR>\n",
      "        <TR></TR></TBODY></TABLE>\n",
      "      <P align=left><FONT face=\"Arial, Helvetica, sans-serif\" size=2></FONT></P>\n",
      "      <P></P>\n",
      "      <CENTER><BR><BR><BR>\n",
      "      <P></P>\n",
      "      <P align=left><BR></B><BR><BR><BR><BR></P>\n",
      "      <P align=center><BR></P>\n",
      "      <P align=left><BR></B><BR><BR></FONT>If you are in receipt of this email \n",
      "      in error and/or wish to be removed from our list, <A \n",
      "      href=\"mailto:coins@btamail.net.cn\">PLEASE CLICK HERE</A> AND TYPE REMOVE. If you \n",
      "      reside in any state which prohibits e-mail solicitations for insurance, \n",
      "      please disregard this \n",
      "      email.<BR></FONT><BR><BR><BR><BR><BR><BR><BR><BR><BR><BR><BR><BR><BR><BR><BR><BR></FONT></P></CENTER></CENTER></TR></TBODY></TABLE></CENTER></CENTER></CENTER></CENTER></CENTER></BODY></HTML>\n",
      "\n",
      "\n",
      "\n",
      "\n"
     ]
    }
   ],
   "source": [
    "# Spam examle\n",
    "print(spam_emails[0].get_content())"
   ]
  },
  {
   "cell_type": "code",
   "execution_count": 7,
   "metadata": {
    "scrolled": false
   },
   "outputs": [
    {
     "name": "stdout",
     "output_type": "stream",
     "text": [
      "The Scotsman - 22 August 2002\n",
      "\n",
      " Playboy wants to go out with a bang \n",
      " \n",
      " \n",
      " AN AGEING Berlin playboy has come up with an unusual offer to lure women into\n",
      " his bed - by promising the last woman he sleeps with an inheritance of 250,000\n",
      " (£160,000). \n",
      " \n",
      " Rolf Eden, 72, a Berlin disco owner famous for his countless sex partners,\n",
      " said he could imagine no better way to die than in the arms of an attractive\n",
      " young woman - preferably under 30. \n",
      " \n",
      " \"I put it all in my last will and testament - the last woman who sleeps with\n",
      " me gets all the money,\" Mr Eden told Bild newspaper. \n",
      " \n",
      " \"I want to pass away in the most beautiful moment of my life. First a lot of\n",
      " fun with a beautiful woman, then wild sex, a final orgasm - and it will all\n",
      " end with a heart attack and then Im gone.\" \n",
      " \n",
      " Mr Eden, who is selling his nightclub this year, said applications should be\n",
      " sent in quickly because of his age. \"It could end very soon,\" he said.\n",
      "\n",
      "\n",
      "------------------------ Yahoo! Groups Sponsor ---------------------~-->\n",
      "4 DVDs Free +s&p Join Now\n",
      "http://us.click.yahoo.com/pt6YBB/NXiEAA/mG3HAA/7gSolB/TM\n",
      "---------------------------------------------------------------------~->\n",
      "\n",
      "To unsubscribe from this group, send an email to:\n",
      "forteana-unsubscribe@egroups.com\n",
      "\n",
      " \n",
      "\n",
      "Your use of Yahoo! Groups is subject to http://docs.yahoo.com/info/terms/ \n",
      "\n",
      "\n",
      "\n",
      "\n"
     ]
    }
   ],
   "source": [
    "# Nonspam example\n",
    "print(ham_emails[6].get_content())"
   ]
  },
  {
   "cell_type": "markdown",
   "metadata": {},
   "source": [
    "# Train and test split"
   ]
  },
  {
   "cell_type": "code",
   "execution_count": 8,
   "metadata": {},
   "outputs": [],
   "source": [
    "X = ham_emails + spam_emails\n",
    "y = [0]*len(ham_emails) + [1]*len(spam_emails)\n",
    "\n",
    "X_train, X_test, y_train, y_test = train_test_split(X, y, test_size=0.2, random_state=11)"
   ]
  },
  {
   "cell_type": "markdown",
   "metadata": {},
   "source": [
    "# Converting emails into text"
   ]
  },
  {
   "cell_type": "code",
   "execution_count": 9,
   "metadata": {},
   "outputs": [],
   "source": [
    "def clean_html(raw_html):\n",
    "    cleantext = re.sub(r'<a.+?>', ' href url ', raw_html, flags=re.I | re.S | re.M) \n",
    "    cleantext = re.sub(r'<.+?>', ' ', cleantext, flags=re.S | re.M)\n",
    "    cleantext = re.sub(r'\\s+', ' ', cleantext) \n",
    "    return unescape(cleantext)\n"
   ]
  },
  {
   "cell_type": "code",
   "execution_count": 10,
   "metadata": {},
   "outputs": [
    {
     "name": "stdout",
     "output_type": "stream",
     "text": [
      " Save up to 70% on Life Insurance. Why Spend More Than You Have To? Life Quote Savings Ensuring your family's financial security is very important. Life Quote Savings makes buying life insurance simple and affordable. We Provide FREE Access to The Very Best Companies and The Lowest Rates. Life Quote Savings is FAST, EASY and SAVES you money! Let us help you get started with the best values in the country on new coverage. You can SAVE hundreds or even thousands of dollars by requesting a FREE quote from Lifequote Savings. Our service will take you less than 5 minutes to complete. Shop and compare. SAVE up to 70% on all types of Life insurance! href url Click Here For Your Free Quote! Protecting your family is the best investment you'll ever make! If you are in receipt of this email in error and/or wish to be removed from our list, href url PLEASE CLICK HERE AND TYPE REMOVE. If you reside in any state which prohibits e-mail solicitations for insurance, please disregard this email. \n"
     ]
    }
   ],
   "source": [
    "cleaned_sample = clean_html(spam_emails[0].get_content())\n",
    "print(cleaned_sample)"
   ]
  },
  {
   "cell_type": "code",
   "execution_count": 11,
   "metadata": {},
   "outputs": [],
   "source": [
    "def email_to_text(raw_email):\n",
    "    html = None\n",
    "    for part in raw_email.walk():\n",
    "        ctype = part.get_content_type()\n",
    "        if ctype not in ('text/html', 'text/plain'):\n",
    "            continue\n",
    "        try:\n",
    "            content = part.get_content()\n",
    "        except:\n",
    "            content = str(part.get_payload())\n",
    "        if ctype == 'text/plain':\n",
    "            return content\n",
    "        else:\n",
    "            html = content\n",
    "    if html:\n",
    "        return clean_html(html)\n",
    "    "
   ]
  },
  {
   "cell_type": "code",
   "execution_count": 12,
   "metadata": {},
   "outputs": [
    {
     "name": "stdout",
     "output_type": "stream",
     "text": [
      " Save up to 70% on Life Insurance. Why Spend More Than You Have To? Life Quote Savings Ensuring your ...\n"
     ]
    }
   ],
   "source": [
    "print(email_to_text(spam_emails[0])[:100], \"...\")"
   ]
  },
  {
   "cell_type": "markdown",
   "metadata": {},
   "source": [
    "# Counting words in email"
   ]
  },
  {
   "cell_type": "code",
   "execution_count": 13,
   "metadata": {},
   "outputs": [
    {
     "name": "stdout",
     "output_type": "stream",
     "text": [
      "Universe => univers\n",
      "Universal => univers\n",
      "University => univers\n",
      "Computed => comput\n",
      "Compute => comput\n",
      "Compulsive => compuls\n"
     ]
    }
   ],
   "source": [
    "stemmer = nltk.PorterStemmer()\n",
    "for word in (\"Universe\", \"Universal\", \"University\", \"Computed\", \"Compute\", \"Compulsive\"):\n",
    "    print(word, \"=>\", stemmer.stem(word))"
   ]
  },
  {
   "cell_type": "markdown",
   "metadata": {},
   "source": [
    "Universe, Universal, and University have the same stem but different meanings, however that wont be a huge problem"
   ]
  },
  {
   "cell_type": "code",
   "execution_count": 14,
   "metadata": {},
   "outputs": [
    {
     "name": "stdout",
     "output_type": "stream",
     "text": [
      "['http://www.adclick.ws/p.cfm?o=315&s=pk007', 'http://www.adclick.ws/p.cfm?o=249&s=pk007', 'http://www.adclick.ws/p.cfm?o=245&s=pk002', 'http://www.adclick.ws/p.cfm?o=259&s=pk007', 'http://www.adclick.ws/p.cfm?o=283&s=pk007', 'http://www.qves.com/trim/?ilug@linux.ie%7C17%7C114258', 'http://www.linux.ie/mailman/listinfo/ilug']\n"
     ]
    }
   ],
   "source": [
    "url_extractor = urlextract.URLExtract()\n",
    "print(url_extractor.find_urls(email_to_text(spam_emails[1])))"
   ]
  },
  {
   "cell_type": "code",
   "execution_count": 15,
   "metadata": {},
   "outputs": [],
   "source": [
    "class EmailToWordCounterTransformer(BaseEstimator, TransformerMixin):    \n",
    "    def __init__(self, lower_case=True, remove_punctuation=True,\n",
    "                 replace_urls=True, replace_numbers=True, stemming=True):\n",
    "        self.lower_case = lower_case\n",
    "        self.remove_punctuation = remove_punctuation\n",
    "        self.replace_numbers = replace_numbers\n",
    "        self.stemming = stemming\n",
    "        self.replace_urls = replace_urls\n",
    "    \n",
    "    def fit(self, X, y=None):\n",
    "        return self\n",
    "    \n",
    "    def transform(self, X, y=None):\n",
    "        X_transformed = []\n",
    "        if not isinstance(X, list):\n",
    "            X = [X]\n",
    "        for email in X:            \n",
    "            text = email_to_text(email) or \"\"\n",
    "            if self.lower_case:\n",
    "                text = text.lower()\n",
    "            if self.replace_urls:\n",
    "                urls = url_extractor.find_urls(text)\n",
    "                for url in urls:\n",
    "                    text = text.replace(url, \" URL \")\n",
    "            if self.replace_numbers:\n",
    "                text = re.sub(r'\\d+(?:\\.\\d*(?:[eE]\\d+))?', ' NUMBER ', text, flags=re.M | re.S)\n",
    "            if self.remove_punctuation:\n",
    "                text = re.sub(r'\\W+', ' ', text, flags=re.M | re.S)\n",
    "            word_counts = Counter(text.split())\n",
    "            if self.stemming:\n",
    "                stemmed_word_counts = Counter()\n",
    "                for word, count in word_counts.items():\n",
    "                    stemmed_word = stemmer.stem(word)\n",
    "                    stemmed_word_counts[stemmed_word] += count\n",
    "                word_counts = stemmed_word_counts\n",
    "            X_transformed.append(word_counts)\n",
    "        return np.array(X_transformed)    \n",
    "    "
   ]
  },
  {
   "cell_type": "code",
   "execution_count": 16,
   "metadata": {},
   "outputs": [
    {
     "data": {
      "text/plain": [
       "array([Counter({'save': 8, 'you': 8, 'to': 6, 'life': 6, 'and': 6, 'quot': 5, 'the': 5, 'insur': 4, 'in': 4, 'number': 3, 'on': 3, 'your': 3, 'is': 3, 'free': 3, 'best': 3, 'of': 3, 'up': 2, 'than': 2, 'famili': 2, 'veri': 2, 'make': 2, 'or': 2, 'from': 2, 'our': 2, 'type': 2, 'href': 2, 'url': 2, 'click': 2, 'here': 2, 'for': 2, 'if': 2, 'thi': 2, 'email': 2, 'remov': 2, 'pleas': 2, 'whi': 1, 'spend': 1, 'more': 1, 'have': 1, 'ensur': 1, 's': 1, 'financi': 1, 'secur': 1, 'import': 1, 'buy': 1, 'simpl': 1, 'afford': 1, 'we': 1, 'provid': 1, 'access': 1, 'compani': 1, 'lowest': 1, 'rate': 1, 'fast': 1, 'easi': 1, 'money': 1, 'let': 1, 'us': 1, 'help': 1, 'get': 1, 'start': 1, 'with': 1, 'valu': 1, 'countri': 1, 'new': 1, 'coverag': 1, 'can': 1, 'hundr': 1, 'even': 1, 'thousand': 1, 'dollar': 1, 'by': 1, 'request': 1, 'a': 1, 'lifequot': 1, 'servic': 1, 'will': 1, 'take': 1, 'less': 1, 'minut': 1, 'complet': 1, 'shop': 1, 'compar': 1, 'all': 1, 'protect': 1, 'invest': 1, 'll': 1, 'ever': 1, 'are': 1, 'receipt': 1, 'error': 1, 'wish': 1, 'be': 1, 'list': 1, 'resid': 1, 'ani': 1, 'state': 1, 'which': 1, 'prohibit': 1, 'e': 1, 'mail': 1, 'solicit': 1, 'disregard': 1}),\n",
       "       Counter({'number': 8, 'url': 7, 'the': 4, 'linux': 3, 'to': 2, 'day': 2, 'you': 2, 'list': 2, 'ie': 2, 'fight': 1, 'risk': 1, 'of': 1, 'cancer': 1, 'slim': 1, 'down': 1, 'guarante': 1, 'lose': 1, 'lb': 1, 'in': 1, 'get': 1, 'child': 1, 'support': 1, 'deserv': 1, 'free': 1, 'legal': 1, 'advic': 1, 'join': 1, 'web': 1, 's': 1, 'fastest': 1, 'grow': 1, 'singl': 1, 'commun': 1, 'start': 1, 'your': 1, 'privat': 1, 'photo': 1, 'album': 1, 'onlin': 1, 'have': 1, 'a': 1, 'wonder': 1, 'offer': 1, 'manag': 1, 'prizemama': 1, 'if': 1, 'wish': 1, 'leav': 1, 'thi': 1, 'pleas': 1, 'use': 1, 'link': 1, 'below': 1, 'irish': 1, 'user': 1, 'group': 1, 'ilug': 1, 'for': 1, 'un': 1, 'subscript': 1, 'inform': 1, 'maintain': 1, 'listmast': 1}),\n",
       "       Counter({'number': 8, 'url': 6, 'the': 4, 'to': 2, 'day': 2, 'you': 2, 'fight': 1, 'risk': 1, 'of': 1, 'cancer': 1, 'slim': 1, 'down': 1, 'guarante': 1, 'lose': 1, 'lb': 1, 'in': 1, 'get': 1, 'child': 1, 'support': 1, 'deserv': 1, 'free': 1, 'legal': 1, 'advic': 1, 'join': 1, 'web': 1, 's': 1, 'fastest': 1, 'grow': 1, 'singl': 1, 'commun': 1, 'start': 1, 'your': 1, 'privat': 1, 'photo': 1, 'album': 1, 'onlin': 1, 'have': 1, 'a': 1, 'wonder': 1, 'offer': 1, 'manag': 1, 'prizemama': 1, 'if': 1, 'wish': 1, 'leav': 1, 'thi': 1, 'list': 1, 'pleas': 1, 'use': 1, 'link': 1, 'below': 1})],\n",
       "      dtype=object)"
      ]
     },
     "execution_count": 16,
     "metadata": {},
     "output_type": "execute_result"
    }
   ],
   "source": [
    "some_email = spam_emails[:3]\n",
    "some_email_wordcounts = EmailToWordCounterTransformer().fit_transform(some_email)\n",
    "some_email_wordcounts"
   ]
  },
  {
   "cell_type": "markdown",
   "metadata": {},
   "source": [
    "# Vectorization\n",
    "\n",
    "Now it's time to vectorize all counted words:\n",
    " \n",
    "1. First I will count all words\n",
    "2. Most common of them I will store in a N=1000 size dictionary \n",
    "3. All my vectors I will store in a <a href=\"https://machinelearningmastery.com/sparse-matrices-for-machine-learning/\">sparce matrix</a> to decrease computational and space costs"
   ]
  },
  {
   "cell_type": "code",
   "execution_count": 57,
   "metadata": {},
   "outputs": [],
   "source": [
    "class WordCounterToVectorTransformer(BaseEstimator, TransformerMixin):    \n",
    "    def __init__(self, vocabulary_size=1000, word_max_occurence=10):\n",
    "        self.vocabulary_size = vocabulary_size\n",
    "        self.word_max_occurence = word_max_occurence\n",
    "    \n",
    "    def fit(self, X, y=None):\n",
    "        total_count = Counter()  \n",
    "        for word_count in X:\n",
    "            for word, count in word_count.items():\n",
    "                total_count[word] += min(count, self.word_max_occurence)  # to prevent word occurrence more than X times at one email\n",
    "        most_common = total_count.most_common()[:self.vocabulary_size]\n",
    "        self.vocabulary_ = {word: index + 1 for index, (word, count) in enumerate(most_common)}  # +1 for top-1 (not top-0)\n",
    "        return self\n",
    "    \n",
    "    def transform(self, X, y=None):\n",
    "        rows = []\n",
    "        cols = []\n",
    "        data = []\n",
    "        for i, word_count in enumerate(X):\n",
    "            for word, count in word_count.items():\n",
    "                rows.append(i)                \n",
    "                cols.append(self.vocabulary_.get(word, 0))  # Store a word's index. \n",
    "                                                            # If a word isn't common then append it to index 0\n",
    "                data.append(count)\n",
    "        return csr_matrix((data, (rows, cols)), shape=(len(X), self.vocabulary_size + 1))\n",
    "    "
   ]
  },
  {
   "cell_type": "code",
   "execution_count": 41,
   "metadata": {},
   "outputs": [
    {
     "data": {
      "text/plain": [
       "<3x11 sparse matrix of type '<class 'numpy.int32'>'\n",
       "\twith 25 stored elements in Compressed Sparse Row format>"
      ]
     },
     "execution_count": 41,
     "metadata": {},
     "output_type": "execute_result"
    }
   ],
   "source": [
    "vocab_transformer = WordCounterToVectorTransformer(vocabulary_size=10)\n",
    "few_vectors = vocab_transformer.fit_transform(some_email_wordcounts)\n",
    "few_vectors"
   ]
  },
  {
   "cell_type": "code",
   "execution_count": 42,
   "metadata": {},
   "outputs": [
    {
     "data": {
      "text/plain": [
       "{'number': 1,\n",
       " 'url': 2,\n",
       " 'the': 3,\n",
       " 'you': 4,\n",
       " 'to': 5,\n",
       " 'save': 6,\n",
       " 'life': 7,\n",
       " 'and': 8,\n",
       " 'in': 9,\n",
       " 'quot': 10}"
      ]
     },
     "execution_count": 42,
     "metadata": {},
     "output_type": "execute_result"
    }
   ],
   "source": [
    "# Top N=10 of most common words\n",
    "vocab_transformer.vocabulary_"
   ]
  },
  {
   "cell_type": "code",
   "execution_count": 43,
   "metadata": {},
   "outputs": [
    {
     "data": {
      "text/plain": [
       "array([[126,   3,   2,   5,   8,   6,   8,   6,   6,   4,   5],\n",
       "       [ 62,   8,   7,   4,   2,   2,   0,   0,   0,   1,   0],\n",
       "       [ 46,   8,   6,   4,   2,   2,   0,   0,   0,   1,   0]],\n",
       "      dtype=int32)"
      ]
     },
     "execution_count": 43,
     "metadata": {},
     "output_type": "execute_result"
    }
   ],
   "source": [
    "few_vectors.toarray()"
   ]
  },
  {
   "cell_type": "markdown",
   "metadata": {},
   "source": [
    "This array shows that the first email has 126 non common words, 3 'number', 2 'url', ... , 4 'in', 5 'quot'."
   ]
  },
  {
   "cell_type": "markdown",
   "metadata": {},
   "source": [
    "# Transformation pipeline "
   ]
  },
  {
   "cell_type": "code",
   "execution_count": 59,
   "metadata": {},
   "outputs": [],
   "source": [
    "preprocess_pipeline = Pipeline([\n",
    "    ('email_to_words', EmailToWordCounterTransformer()),\n",
    "    ('words_to_vectors', WordCounterToVectorTransformer(word_max_occurence=15)),\n",
    "])"
   ]
  },
  {
   "cell_type": "code",
   "execution_count": 60,
   "metadata": {},
   "outputs": [],
   "source": [
    "X_train_prepared = preprocess_pipeline.fit_transform(X_train)"
   ]
  },
  {
   "cell_type": "markdown",
   "metadata": {},
   "source": [
    "# Model training"
   ]
  },
  {
   "cell_type": "code",
   "execution_count": 61,
   "metadata": {},
   "outputs": [],
   "source": [
    "log_clsf = LogisticRegression(solver='liblinear', random_state=11)"
   ]
  },
  {
   "cell_type": "code",
   "execution_count": 62,
   "metadata": {},
   "outputs": [
    {
     "name": "stderr",
     "output_type": "stream",
     "text": [
      "[Parallel(n_jobs=1)]: Using backend SequentialBackend with 1 concurrent workers.\n"
     ]
    },
    {
     "name": "stdout",
     "output_type": "stream",
     "text": [
      "[CV]  ................................................................\n"
     ]
    },
    {
     "name": "stderr",
     "output_type": "stream",
     "text": [
      "c:\\users\\batyr\\appdata\\local\\programs\\python\\python37-32\\lib\\site-packages\\sklearn\\svm\\base.py:929: ConvergenceWarning: Liblinear failed to converge, increase the number of iterations.\n",
      "  \"the number of iterations.\", ConvergenceWarning)\n",
      "[Parallel(n_jobs=1)]: Done   1 out of   1 | elapsed:    0.2s remaining:    0.0s\n"
     ]
    },
    {
     "name": "stdout",
     "output_type": "stream",
     "text": [
      "[CV] .................................... , score=0.968, total=   0.3s\n",
      "[CV]  ................................................................\n",
      "[CV] .................................... , score=0.968, total=   0.3s\n",
      "[CV]  ................................................................\n"
     ]
    },
    {
     "name": "stderr",
     "output_type": "stream",
     "text": [
      "[Parallel(n_jobs=1)]: Done   2 out of   2 | elapsed:    0.5s remaining:    0.0s\n"
     ]
    },
    {
     "name": "stdout",
     "output_type": "stream",
     "text": [
      "[CV] .................................... , score=0.976, total=   0.3s\n"
     ]
    },
    {
     "name": "stderr",
     "output_type": "stream",
     "text": [
      "[Parallel(n_jobs=1)]: Done   3 out of   3 | elapsed:    0.8s finished\n"
     ]
    }
   ],
   "source": [
    "score = cross_val_score(log_clsf, X_train_prepared, y_train, cv=3, verbose=3)"
   ]
  },
  {
   "cell_type": "code",
   "execution_count": 63,
   "metadata": {},
   "outputs": [
    {
     "name": "stdout",
     "output_type": "stream",
     "text": [
      "Accuracy: 97.04%\n"
     ]
    }
   ],
   "source": [
    "print(\"Accuracy: {:0.2f}%\".format(100*score.mean()))"
   ]
  },
  {
   "cell_type": "markdown",
   "metadata": {},
   "source": [
    "Accuracy seems okay. Let's investigate precision and recall"
   ]
  },
  {
   "cell_type": "code",
   "execution_count": 64,
   "metadata": {},
   "outputs": [
    {
     "name": "stdout",
     "output_type": "stream",
     "text": [
      "Precision: 97.75%\n",
      "Recall: 90.62%\n"
     ]
    }
   ],
   "source": [
    "log_clsf = LogisticRegression(solver='liblinear', random_state=11)\n",
    "log_clsf.fit(X_train_prepared, y_train)\n",
    "\n",
    "X_test_prepared = preprocess_pipeline.transform(X_test)\n",
    "y_test_predicted = log_clsf.predict(X_test_prepared)\n",
    "\n",
    "print(\"Precision: {:.2f}%\".format(100*precision_score(y_test, y_test_predicted)))\n",
    "print(\"Recall: {:.2f}%\".format(100*recall_score(y_test, y_test_predicted)))"
   ]
  },
  {
   "cell_type": "markdown",
   "metadata": {},
   "source": [
    "Recall 86% means that 14% of spam emails were classified as not spam. Not good\n",
    "\n",
    "**Update:** Recall was increased up to 90% after raising the max occurrence limit for one word in an email from 10 to 15. \n",
    "<br>But increasing the limit up to 20 had negative effect — see <font color=\"green\">*class WordCounterToVectorTransformer(word_max_occurence=15)*</font>"
   ]
  },
  {
   "cell_type": "markdown",
   "metadata": {},
   "source": [
    "# Reviewing results\n",
    "\n",
    "Let's see most spammish and anti-spam words"
   ]
  },
  {
   "cell_type": "code",
   "execution_count": 51,
   "metadata": {},
   "outputs": [],
   "source": [
    "coefs = log_clsf.coef_[0]\n",
    "vocabulary = preprocess_pipeline.named_steps['words_to_vectors'].vocabulary_\n",
    "vocabulary['noncommon'] = 0\n",
    "spam_words = [(value, word) for value, word in list(zip(coefs, vocabulary)) if value > 0]\n",
    "ham_words = [(value, word) for value, word in list(zip(coefs, vocabulary)) if value < 0] "
   ]
  },
  {
   "cell_type": "code",
   "execution_count": 28,
   "metadata": {
    "scrolled": false
   },
   "outputs": [
    {
     "name": "stdout",
     "output_type": "stream",
     "text": [
      "Top 20 anti spam markers:\n"
     ]
    },
    {
     "data": {
      "text/plain": [
       "[(-0.8453963761290549, 'right'),\n",
       " (-0.612136992634072, 'have'),\n",
       " (-0.5672524769330374, 'system'),\n",
       " (-0.4281089391267092, 'in'),\n",
       " (-0.4043030679248799, 'with'),\n",
       " (-0.3743808519296648, 'an'),\n",
       " (-0.3637083713411092, 'all'),\n",
       " (-0.3435839231997048, 'he'),\n",
       " (-0.3304431452337219, 'pleas'),\n",
       " (-0.31662710939591227, 're'),\n",
       " (-0.31574726504973283, 'thi'),\n",
       " (-0.3140539815110308, 'inform'),\n",
       " (-0.2929765396473097, 'their'),\n",
       " (-0.2847814946531351, 'is'),\n",
       " (-0.27121887649985416, 'well'),\n",
       " (-0.2693235528569236, 'level'),\n",
       " (-0.26526056770418716, 'support'),\n",
       " (-0.2618141418565646, 'at'),\n",
       " (-0.25604186365187037, 'do'),\n",
       " (-0.2347443239206447, 'folder')]"
      ]
     },
     "execution_count": 28,
     "metadata": {},
     "output_type": "execute_result"
    }
   ],
   "source": [
    "print(\"Top 20 anti spam markers:\")\n",
    "ham_words.sort()\n",
    "ham_words[:20]"
   ]
  },
  {
   "cell_type": "markdown",
   "metadata": {},
   "source": [
    "I supposed that 'free' will be an absolute spam marker, but it is not. What if it depends on the context? Say \"free\" + \"url\" separately have weights -0.334 and -0.1867, but together some positive weight."
   ]
  },
  {
   "cell_type": "code",
   "execution_count": 29,
   "metadata": {
    "scrolled": false
   },
   "outputs": [
    {
     "name": "stdout",
     "output_type": "stream",
     "text": [
      "Top 20 spam markers:\n"
     ]
    },
    {
     "data": {
      "text/plain": [
       "[(0.5488242500255128, 'busi'),\n",
       " (0.5185001663159599, 'thing'),\n",
       " (0.5023531877047657, 'mail'),\n",
       " (0.42053740228777853, 'email'),\n",
       " (0.41306920106222955, 'some'),\n",
       " (0.3978706802165026, 'line'),\n",
       " (0.35076424148063745, 'believ'),\n",
       " (0.344470876571852, 'consum'),\n",
       " (0.344166819985935, 'like'),\n",
       " (0.33903917971788, 'move'),\n",
       " (0.3358652526051267, 'program'),\n",
       " (0.3336616805688166, 'what'),\n",
       " (0.3122320577258383, 'addit'),\n",
       " (0.310155608717193, 'into'),\n",
       " (0.28631446842380515, 'root'),\n",
       " (0.28592056613742134, 'even'),\n",
       " (0.28589256106683386, 'control'),\n",
       " (0.25800536120714973, 'that'),\n",
       " (0.25570249067745027, 'becaus'),\n",
       " (0.2530643630799164, 'she')]"
      ]
     },
     "execution_count": 29,
     "metadata": {},
     "output_type": "execute_result"
    }
   ],
   "source": [
    "print(\"Top 20 spam markers:\")\n",
    "spam_words.sort(reverse=True)\n",
    "spam_words[:20]"
   ]
  },
  {
   "cell_type": "code",
   "execution_count": null,
   "metadata": {},
   "outputs": [],
   "source": []
  }
 ],
 "metadata": {
  "kernelspec": {
   "display_name": "Python 3",
   "language": "python",
   "name": "python3"
  },
  "language_info": {
   "codemirror_mode": {
    "name": "ipython",
    "version": 3
   },
   "file_extension": ".py",
   "mimetype": "text/x-python",
   "name": "python",
   "nbconvert_exporter": "python",
   "pygments_lexer": "ipython3",
   "version": "3.7.4"
  }
 },
 "nbformat": 4,
 "nbformat_minor": 2
}
